{
 "cells": [
  {
   "cell_type": "markdown",
   "id": "b42042fc-4a2c-49c2-a660-7d91c6d1f2e1",
   "metadata": {},
   "source": [
    "### Read OISST v2 data via Thredds, save data into disk and then remap data to the POP2 1 degree grid"
   ]
  },
  {
   "cell_type": "code",
   "execution_count": 1,
   "id": "be883ff0-102f-4091-a8d7-22a9a19a1420",
   "metadata": {},
   "outputs": [
    {
     "name": "stderr",
     "output_type": "stream",
     "text": [
      "/glade/work/gmarques/miniconda/envs/dev2/lib/python3.9/site-packages/dask_jobqueue/core.py:20: FutureWarning: tmpfile is deprecated and will be removed in a future release. Please use dask.utils.tmpfile instead.\n",
      "  from distributed.utils import tmpfile\n"
     ]
    }
   ],
   "source": [
    "# Load required modules\n",
    "import numpy as np\n",
    "from datetime import date\n",
    "from matplotlib import pyplot as plt\n",
    "import xarray as xr\n",
    "import pop_tools\n",
    "import xesmf, os, getpass\n",
    "from misc import get_ij\n",
    "from distributed import Client\n",
    "from ncar_jobqueue import NCARCluster\n",
    "# Load marineHeatWaves definition module\n",
    "import marineHeatWaves as mhw"
   ]
  },
  {
   "cell_type": "code",
   "execution_count": 2,
   "id": "21093c92-3ec4-415c-a276-f98f5a76310a",
   "metadata": {},
   "outputs": [],
   "source": [
    "base_url = 'https://psl.noaa.gov/thredds/dodsC/Datasets/noaa.oisst.v2.highres/'\n",
    "files = [f'{base_url}sst.day.mean.{year}.v2.nc' for year in range(1981, 2021)]\n",
    "#files\n",
    "#https://psl.noaa.gov/thredds/dodsC/Datasets/noaa.oisst.v2.highres/sst.day.mean.1984.v2.nc.html"
   ]
  },
  {
   "cell_type": "markdown",
   "id": "00f7e612-fd9a-48f8-acf7-89036e4d89c2",
   "metadata": {},
   "source": [
    "Download the oisst dataset on scratch, if that has not been done already."
   ]
  },
  {
   "cell_type": "code",
   "execution_count": 3,
   "id": "0064e034-688f-4b40-9f91-edccc3a91c84",
   "metadata": {},
   "outputs": [
    {
     "name": "stderr",
     "output_type": "stream",
     "text": [
      "mkdir: cannot create directory ‘/glade/scratch/gmarques/noaa.oisst.v2.highres/’: File exists\n"
     ]
    },
    {
     "data": {
      "text/plain": [
       "256"
      ]
     },
     "execution_count": 3,
     "metadata": {},
     "output_type": "execute_result"
    }
   ],
   "source": [
    "path = '/glade/scratch/{}/noaa.oisst.v2.highres/'.format(getpass.getuser())\n",
    "os.system('mkdir '+path)"
   ]
  },
  {
   "cell_type": "code",
   "execution_count": 10,
   "id": "d19f9350-6404-4b4d-a3b7-0d8dfd6bf496",
   "metadata": {},
   "outputs": [
    {
     "name": "stdout",
     "output_type": "stream",
     "text": [
      "https://psl.noaa.gov/thredds/dodsC/Datasets/noaa.oisst.v2.highres/sst.day.mean.2003.v2.nc\n",
      "https://psl.noaa.gov/thredds/dodsC/Datasets/noaa.oisst.v2.highres/sst.day.mean.2004.v2.nc\n",
      "https://psl.noaa.gov/thredds/dodsC/Datasets/noaa.oisst.v2.highres/sst.day.mean.2005.v2.nc\n",
      "https://psl.noaa.gov/thredds/dodsC/Datasets/noaa.oisst.v2.highres/sst.day.mean.2006.v2.nc\n",
      "https://psl.noaa.gov/thredds/dodsC/Datasets/noaa.oisst.v2.highres/sst.day.mean.2007.v2.nc\n",
      "https://psl.noaa.gov/thredds/dodsC/Datasets/noaa.oisst.v2.highres/sst.day.mean.2008.v2.nc\n",
      "https://psl.noaa.gov/thredds/dodsC/Datasets/noaa.oisst.v2.highres/sst.day.mean.2009.v2.nc\n",
      "https://psl.noaa.gov/thredds/dodsC/Datasets/noaa.oisst.v2.highres/sst.day.mean.2010.v2.nc\n",
      "https://psl.noaa.gov/thredds/dodsC/Datasets/noaa.oisst.v2.highres/sst.day.mean.2011.v2.nc\n",
      "https://psl.noaa.gov/thredds/dodsC/Datasets/noaa.oisst.v2.highres/sst.day.mean.2012.v2.nc\n",
      "https://psl.noaa.gov/thredds/dodsC/Datasets/noaa.oisst.v2.highres/sst.day.mean.2013.v2.nc\n",
      "https://psl.noaa.gov/thredds/dodsC/Datasets/noaa.oisst.v2.highres/sst.day.mean.2014.v2.nc\n",
      "https://psl.noaa.gov/thredds/dodsC/Datasets/noaa.oisst.v2.highres/sst.day.mean.2015.v2.nc\n",
      "https://psl.noaa.gov/thredds/dodsC/Datasets/noaa.oisst.v2.highres/sst.day.mean.2016.v2.nc\n",
      "https://psl.noaa.gov/thredds/dodsC/Datasets/noaa.oisst.v2.highres/sst.day.mean.2017.v2.nc\n",
      "https://psl.noaa.gov/thredds/dodsC/Datasets/noaa.oisst.v2.highres/sst.day.mean.2018.v2.nc\n",
      "https://psl.noaa.gov/thredds/dodsC/Datasets/noaa.oisst.v2.highres/sst.day.mean.2019.v2.nc\n",
      "https://psl.noaa.gov/thredds/dodsC/Datasets/noaa.oisst.v2.highres/sst.day.mean.2020.v2.nc\n"
     ]
    }
   ],
   "source": [
    "for f in files:\n",
    "  if (not os.path.lexists(path+f[-23:])):\n",
    "    print(f)\n",
    "    ds = xr.open_dataset(f, chunks={'time': '100MB'})\n",
    "    ds.to_netcdf(path+f[-23:])"
   ]
  },
  {
   "cell_type": "code",
   "execution_count": 11,
   "id": "dc8eea9f-fa7c-4770-ab01-fff5eea0f1c4",
   "metadata": {},
   "outputs": [
    {
     "data": {
      "text/html": [
       "<div>\n",
       "    <div style=\"width: 24px; height: 24px; background-color: #e1e1e1; border: 3px solid #9D9D9D; border-radius: 5px; position: absolute;\"> </div>\n",
       "    <div style=\"margin-left: 48px;\">\n",
       "        <h3 style=\"margin-bottom: 0px;\">Client</h3>\n",
       "        <p style=\"color: #9D9D9D; margin-bottom: 0px;\">Client-e5c6040f-eceb-11ec-9d02-3cecef1acc56</p>\n",
       "        <table style=\"width: 100%; text-align: left;\">\n",
       "\n",
       "        <tr>\n",
       "        \n",
       "            <td style=\"text-align: left;\"><strong>Connection method:</strong> Cluster object</td>\n",
       "            <td style=\"text-align: left;\"><strong>Cluster type:</strong> dask_jobqueue.PBSCluster</td>\n",
       "        \n",
       "        </tr>\n",
       "\n",
       "        \n",
       "            <tr>\n",
       "                <td style=\"text-align: left;\">\n",
       "                    <strong>Dashboard: </strong> <a href=\"https://jupyterhub.hpc.ucar.edu/stable/user/gmarques/high_memory/proxy/8787/status\" target=\"_blank\">https://jupyterhub.hpc.ucar.edu/stable/user/gmarques/high_memory/proxy/8787/status</a>\n",
       "                </td>\n",
       "                <td style=\"text-align: left;\"></td>\n",
       "            </tr>\n",
       "        \n",
       "\n",
       "        </table>\n",
       "\n",
       "        \n",
       "            <details>\n",
       "            <summary style=\"margin-bottom: 20px;\"><h3 style=\"display: inline;\">Cluster Info</h3></summary>\n",
       "            <div class=\"jp-RenderedHTMLCommon jp-RenderedHTML jp-mod-trusted jp-OutputArea-output\">\n",
       "    <div style=\"width: 24px; height: 24px; background-color: #e1e1e1; border: 3px solid #9D9D9D; border-radius: 5px; position: absolute;\">\n",
       "    </div>\n",
       "    <div style=\"margin-left: 48px;\">\n",
       "        <h3 style=\"margin-bottom: 0px; margin-top: 0px;\">PBSCluster</h3>\n",
       "        <p style=\"color: #9D9D9D; margin-bottom: 0px;\">b92dd9e8</p>\n",
       "        <table style=\"width: 100%; text-align: left;\">\n",
       "            <tr>\n",
       "                <td style=\"text-align: left;\">\n",
       "                    <strong>Dashboard:</strong> <a href=\"https://jupyterhub.hpc.ucar.edu/stable/user/gmarques/high_memory/proxy/8787/status\" target=\"_blank\">https://jupyterhub.hpc.ucar.edu/stable/user/gmarques/high_memory/proxy/8787/status</a>\n",
       "                </td>\n",
       "                <td style=\"text-align: left;\">\n",
       "                    <strong>Workers:</strong> 0\n",
       "                </td>\n",
       "            </tr>\n",
       "            <tr>\n",
       "                <td style=\"text-align: left;\">\n",
       "                    <strong>Total threads:</strong> 0\n",
       "                </td>\n",
       "                <td style=\"text-align: left;\">\n",
       "                    <strong>Total memory:</strong> 0 B\n",
       "                </td>\n",
       "            </tr>\n",
       "            \n",
       "        </table>\n",
       "\n",
       "        <details>\n",
       "            <summary style=\"margin-bottom: 20px;\">\n",
       "                <h3 style=\"display: inline;\">Scheduler Info</h3>\n",
       "            </summary>\n",
       "\n",
       "            <div style=\"\">\n",
       "    <div>\n",
       "        <div style=\"width: 24px; height: 24px; background-color: #FFF7E5; border: 3px solid #FF6132; border-radius: 5px; position: absolute;\"> </div>\n",
       "        <div style=\"margin-left: 48px;\">\n",
       "            <h3 style=\"margin-bottom: 0px;\">Scheduler</h3>\n",
       "            <p style=\"color: #9D9D9D; margin-bottom: 0px;\">Scheduler-18abd0a2-b92b-444b-8a1b-1a5093d6c191</p>\n",
       "            <table style=\"width: 100%; text-align: left;\">\n",
       "                <tr>\n",
       "                    <td style=\"text-align: left;\">\n",
       "                        <strong>Comm:</strong> tcp://10.12.206.24:35303\n",
       "                    </td>\n",
       "                    <td style=\"text-align: left;\">\n",
       "                        <strong>Workers:</strong> 0\n",
       "                    </td>\n",
       "                </tr>\n",
       "                <tr>\n",
       "                    <td style=\"text-align: left;\">\n",
       "                        <strong>Dashboard:</strong> <a href=\"https://jupyterhub.hpc.ucar.edu/stable/user/gmarques/high_memory/proxy/8787/status\" target=\"_blank\">https://jupyterhub.hpc.ucar.edu/stable/user/gmarques/high_memory/proxy/8787/status</a>\n",
       "                    </td>\n",
       "                    <td style=\"text-align: left;\">\n",
       "                        <strong>Total threads:</strong> 0\n",
       "                    </td>\n",
       "                </tr>\n",
       "                <tr>\n",
       "                    <td style=\"text-align: left;\">\n",
       "                        <strong>Started:</strong> Just now\n",
       "                    </td>\n",
       "                    <td style=\"text-align: left;\">\n",
       "                        <strong>Total memory:</strong> 0 B\n",
       "                    </td>\n",
       "                </tr>\n",
       "            </table>\n",
       "        </div>\n",
       "    </div>\n",
       "\n",
       "    <details style=\"margin-left: 48px;\">\n",
       "        <summary style=\"margin-bottom: 20px;\">\n",
       "            <h3 style=\"display: inline;\">Workers</h3>\n",
       "        </summary>\n",
       "\n",
       "        \n",
       "\n",
       "    </details>\n",
       "</div>\n",
       "\n",
       "        </details>\n",
       "    </div>\n",
       "</div>\n",
       "            </details>\n",
       "        \n",
       "\n",
       "    </div>\n",
       "</div>"
      ],
      "text/plain": [
       "<Client: 'tcp://10.12.206.24:35303' processes=0 threads=0, memory=0 B>"
      ]
     },
     "execution_count": 11,
     "metadata": {},
     "output_type": "execute_result"
    }
   ],
   "source": [
    "cluster = NCARCluster(cores=4,\n",
    "    processes=1,\n",
    "    resource_spec='select=1:ncpus=1:mem=50GB',\n",
    ")\n",
    "cluster.scale(20)\n",
    "client = Client(cluster)\n",
    "client"
   ]
  },
  {
   "cell_type": "code",
   "execution_count": 12,
   "id": "4625d78e-1695-49db-ac8a-73c3f878f068",
   "metadata": {},
   "outputs": [
    {
     "name": "stdout",
     "output_type": "stream",
     "text": [
      "CPU times: user 405 ms, sys: 234 ms, total: 639 ms\n",
      "Wall time: 16 s\n"
     ]
    }
   ],
   "source": [
    "%%time\n",
    "data = xr.open_mfdataset(path+'*.nc', parallel=True)"
   ]
  },
  {
   "cell_type": "markdown",
   "id": "e8f76694-ddcc-4c57-b2f7-1a5c1aec4677",
   "metadata": {},
   "source": [
    "### Case study #1: 2011 Western Australia event\n",
    "\n",
    "As an example, let look at a SST plot off Western Australia using a single day from the AVHRR satellite data. On the same plot we will and overlay the point for case 1 (WA; 112.5 ∘ E, 29.5 ∘ S) on the AVHRR grid and on the LENS2 POP grid. We will also plot the two grids on the map."
   ]
  },
  {
   "cell_type": "code",
   "execution_count": 13,
   "id": "e0213a50-80fa-42d9-b926-459d723112b4",
   "metadata": {},
   "outputs": [],
   "source": [
    "# add coordinates for cell edges\n",
    "lon_c = np.zeros(len(data.lon)+1)\n",
    "lon_c[1:-1] = 0.5 * (data.lon.values[0:-1]+data.lon.values[1::])\n",
    "lon_c[0] = 0.\n",
    "lon_c[-1] = 360\n",
    "data = data.assign_coords(lon_c=('lon_c', lon_c))\n",
    "\n",
    "lat_c = np.zeros(len(data.lat)+1)\n",
    "lat_c[1:-1] = 0.5 * (data.lat.values[0:-1]+data.lat.values[1::])\n",
    "lat_c[0] = -90\n",
    "lat_c[-1] = +90\n",
    "data = data.assign_coords(lat_c=('lat_c', lat_c))\n",
    "\n",
    "[X,Y] = np.meshgrid(lon_c, lat_c)"
   ]
  },
  {
   "cell_type": "code",
   "execution_count": 14,
   "id": "70d1473a-cdbc-457e-bbe4-497f095ec128",
   "metadata": {},
   "outputs": [
    {
     "name": "stderr",
     "output_type": "stream",
     "text": [
      "/glade/work/gmarques/miniconda/envs/dev2/lib/python3.9/site-packages/numba/np/ufunc/parallel.py:365: NumbaWarning: \u001b[1mThe TBB threading layer requires TBB version 2019.5 or later i.e., TBB_INTERFACE_VERSION >= 11005. Found TBB_INTERFACE_VERSION = 6103. The TBB threading layer is disabled.\u001b[0m\n",
      "  warnings.warn(problem)\n"
     ]
    },
    {
     "name": "stdout",
     "output_type": "stream",
     "text": [
      "i = 135, j = 93\n"
     ]
    },
    {
     "data": {
      "image/png": "[encoded data removed]",
      "text/plain": [
       "<Figure size 648x432 with 2 Axes>"
      ]
     },
     "metadata": {
      "needs_background": "light"
     },
     "output_type": "display_data"
    }
   ],
   "source": [
    "pop_grid = pop_tools.get_grid('POP_gx1v7')\n",
    "i, j = get_ij(112.5, -29.5, pop_grid)\n",
    "print('i = {}, j = {}'.format(i,j))\n",
    "\n",
    "dummy = data.sst.sel(lon = 112.5, lat = -29.5, method='nearest')[0]\n",
    "fig, ax = plt.subplots(1,1, figsize=(9,6))\n",
    "data.sst[10,:].plot(ax=ax, vmin=15,vmax=23)\n",
    "# sst grid\n",
    "ax.plot(X,Y,'k',alpha=0.1)\n",
    "ax.plot(X.transpose(),Y.transpose(),'k',alpha=0.1)\n",
    "ax.plot(dummy.lon.values, dummy.lat.values, color='k', ms=3,marker='o')\n",
    "\n",
    "# pop grid\n",
    "ax.plot(pop_grid.ULONG,pop_grid.ULAT,'r',alpha=0.5)\n",
    "ax.plot(pop_grid.ULONG.transpose(),pop_grid.ULAT.transpose(),'r',alpha=0.5)\n",
    "ax.plot(pop_grid.TLONG[j,i], pop_grid.TLAT[j,i], color='r', \n",
    "        ms=5,marker='o');\n",
    "\n",
    "#ax.plot([111.5,113.5,113.5,111.5,111.5],[-30.5,-30.5,-28.5,-28.5,-30.5],'k')\n",
    "ax.set_xlim(111,115)\n",
    "ax.set_ylim(-27,-31);"
   ]
  },
  {
   "cell_type": "markdown",
   "id": "58ddb03b-5a9b-41eb-90c7-94b7bf153948",
   "metadata": {},
   "source": [
    "### Remap SST data to POP_gx1v7"
   ]
  },
  {
   "cell_type": "code",
   "execution_count": 15,
   "id": "7b399cf0-4d44-4e57-b396-48b8bb3f4e1c",
   "metadata": {},
   "outputs": [],
   "source": [
    "pop_grid = pop_tools.get_grid('POP_gx1v7')\n",
    "\n",
    "ds_in = data.rename({'lon_c': 'lon_b','lat_c': 'lat_b',})\n",
    "ds_out = pop_grid.rename({'TLAT': 'lat','TLONG': 'lon', 'ULAT' : 'lat_b', 'ULONG' : 'lon_b'})"
   ]
  },
  {
   "cell_type": "code",
   "execution_count": 16,
   "id": "ba9ed5d3-96ed-41a5-a7e2-8a201742e2d4",
   "metadata": {},
   "outputs": [],
   "source": [
    "def regrid_tracer(fld, ds_in, ds_out, method='bilinear'):\n",
    "\n",
    "    regrid = xesmf.Regridder(\n",
    "        ds_in,\n",
    "        ds_out,\n",
    "        method=method,\n",
    "        periodic=True,\n",
    "    )\n",
    "    fld_out = regrid(ds_in[fld])\n",
    "    return fld_out"
   ]
  },
  {
   "cell_type": "code",
   "execution_count": 17,
   "id": "89665b6b-136b-4e05-8270-44ba773e92af",
   "metadata": {},
   "outputs": [
    {
     "name": "stdout",
     "output_type": "stream",
     "text": [
      "CPU times: user 15.3 s, sys: 288 ms, total: 15.6 s\n",
      "Wall time: 16.6 s\n"
     ]
    }
   ],
   "source": [
    "%%time\n",
    "sst_regridded = regrid_tracer('sst', ds_in, ds_out)"
   ]
  },
  {
   "cell_type": "code",
   "execution_count": 20,
   "id": "fb254e8e-7142-45db-80af-51e91f2cfdf8",
   "metadata": {},
   "outputs": [],
   "source": [
    "sst_regridded.to_netcdf(path+'oisst_regridded_POP_gx1v7.nc')"
   ]
  },
  {
   "cell_type": "code",
   "execution_count": 24,
   "id": "925905de-cb11-485e-a598-498a3de2ddb3",
   "metadata": {},
   "outputs": [
    {
     "data": {
      "image/png": "[encoded data removed]",
      "text/plain": [
       "<Figure size 1080x360 with 4 Axes>"
      ]
     },
     "metadata": {
      "needs_background": "light"
     },
     "output_type": "display_data"
    }
   ],
   "source": [
    "# compare the original and remmaped data\n",
    "%matplotlib inline\n",
    "dummy = data.sst.sel(lon = 112.5, lat = -29.5, method='nearest')[0]\n",
    "fig, ax = plt.subplots(1,2, figsize=(15,5))\n",
    "data.sst[0,:].plot(ax=ax[0], vmin=12,vmax=28)\n",
    "ax[0].plot(dummy.lon.values, dummy.lat.values, color='r', ms=5,marker='o')\n",
    "ax[0].set_xlim(100,130)\n",
    "ax[0].set_ylim(-40,-22);\n",
    "ax[0].set_title('Original')\n",
    "\n",
    "sst_regridded[0,:].plot(ax=ax[1], vmin=12,vmax=28)\n",
    "ax[1].plot([135], [93], color='r', ms=5,marker='o')\n",
    "ax[1].plot([111.5,113.5,113.5,111.5,111.5],[-30.5,-30.5,-28.5,-28.5,-30.5],'k')\n",
    "ax[1].set_xlim(124,151)\n",
    "ax[1].set_ylim(73,109);\n",
    "ax[1].set_title('Regridded to POP_gx1v7');"
   ]
  },
  {
   "cell_type": "markdown",
   "id": "b5ecbfa4-d8e8-428a-aa3d-ef38957d3b96",
   "metadata": {
    "jp-MarkdownHeadingCollapsed": true,
    "tags": []
   },
   "source": [
    "Let's load daily time series of SST (from the original and remapped dataset) off Western Australia (WA; 112.5 ∘ E, 29.5 ∘ S, red dot above) over the 1982 to 2014 period:"
   ]
  },
  {
   "cell_type": "markdown",
   "id": "4ea60e3e-878b-487a-8291-661ef668b4ee",
   "metadata": {},
   "source": [
    "##### Select time-series"
   ]
  },
  {
   "cell_type": "code",
   "execution_count": 25,
   "id": "80798424-316c-4a06-b67e-bbdca5faa3f9",
   "metadata": {},
   "outputs": [
    {
     "name": "stdout",
     "output_type": "stream",
     "text": [
      "CPU times: user 540 ms, sys: 30.5 ms, total: 571 ms\n",
      "Wall time: 6.88 s\n"
     ]
    }
   ],
   "source": [
    "%%time\n",
    "wa_ds = data.sst.sel(lon = 112.5, lat = -29.5, \n",
    "             method='nearest').sel(time = slice(\"1982-01-01\",\"2014-12-31\")).load()"
   ]
  },
  {
   "cell_type": "code",
   "execution_count": 27,
   "id": "7442d726-cd01-4f24-83e0-37a1a9fac4f2",
   "metadata": {},
   "outputs": [
    {
     "data": {
      "text/html": [
       "<div><svg style=\"position: absolute; width: 0; height: 0; overflow: hidden\">\n",
       "<defs>\n",
       "<symbol id=\"icon-database\" viewBox=\"0 0 32 32\">\n",
       "<path d=\"M16 0c-8.837 0-16 2.239-16 5v4c0 2.761 7.163 5 16 5s16-2.239 16-5v-4c0-2.761-7.163-5-16-5z\"></path>\n",
       "<path d=\"M16 17c-8.837 0-16-2.239-16-5v6c0 2.761 7.163 5 16 5s16-2.239 16-5v-6c0 2.761-7.163 5-16 5z\"></path>\n",
       "<path d=\"M16 26c-8.837 0-16-2.239-16-5v6c0 2.761 7.163 5 16 5s16-2.239 16-5v-6c0 2.761-7.163 5-16 5z\"></path>\n",
       "</symbol>\n",
       "<symbol id=\"icon-file-text2\" viewBox=\"0 0 32 32\">\n",
       "<path d=\"M28.681 7.159c-0.694-0.947-1.662-2.053-2.724-3.116s-2.169-2.030-3.116-2.724c-1.612-1.182-2.393-1.319-2.841-1.319h-15.5c-1.378 0-2.5 1.121-2.5 2.5v27c0 1.378 1.122 2.5 2.5 2.5h23c1.378 0 2.5-1.122 2.5-2.5v-19.5c0-0.448-0.137-1.23-1.319-2.841zM24.543 5.457c0.959 0.959 1.712 1.825 2.268 2.543h-4.811v-4.811c0.718 0.556 1.584 1.309 2.543 2.268zM28 29.5c0 0.271-0.229 0.5-0.5 0.5h-23c-0.271 0-0.5-0.229-0.5-0.5v-27c0-0.271 0.229-0.5 0.5-0.5 0 0 15.499-0 15.5 0v7c0 0.552 0.448 1 1 1h7v19.5z\"></path>\n",
       "<path d=\"M23 26h-14c-0.552 0-1-0.448-1-1s0.448-1 1-1h14c0.552 0 1 0.448 1 1s-0.448 1-1 1z\"></path>\n",
       "<path d=\"M23 22h-14c-0.552 0-1-0.448-1-1s0.448-1 1-1h14c0.552 0 1 0.448 1 1s-0.448 1-1 1z\"></path>\n",
       "<path d=\"M23 18h-14c-0.552 0-1-0.448-1-1s0.448-1 1-1h14c0.552 0 1 0.448 1 1s-0.448 1-1 1z\"></path>\n",
       "</symbol>\n",
       "</defs>\n",
       "</svg>\n",
       "<style>/* CSS stylesheet for displaying xarray objects in jupyterlab.\n",
       " *\n",
       " */\n",
       "\n",
       ":root {\n",
       "  --xr-font-color0: var(--jp-content-font-color0, rgba(0, 0, 0, 1));\n",
       "  --xr-font-color2: var(--jp-content-font-color2, rgba(0, 0, 0, 0.54));\n",
       "  --xr-font-color3: var(--jp-content-font-color3, rgba(0, 0, 0, 0.38));\n",
       "  --xr-border-color: var(--jp-border-color2, #e0e0e0);\n",
       "  --xr-disabled-color: var(--jp-layout-color3, #bdbdbd);\n",
       "  --xr-background-color: var(--jp-layout-color0, white);\n",
       "  --xr-background-color-row-even: var(--jp-layout-color1, white);\n",
       "  --xr-background-color-row-odd: var(--jp-layout-color2, #eeeeee);\n",
       "}\n",
       "\n",
       "html[theme=dark],\n",
       "body.vscode-dark {\n",
       "  --xr-font-color0: rgba(255, 255, 255, 1);\n",
       "  --xr-font-color2: rgba(255, 255, 255, 0.54);\n",
       "  --xr-font-color3: rgba(255, 255, 255, 0.38);\n",
       "  --xr-border-color: #1F1F1F;\n",
       "  --xr-disabled-color: #515151;\n",
       "  --xr-background-color: #111111;\n",
       "  --xr-background-color-row-even: #111111;\n",
       "  --xr-background-color-row-odd: #313131;\n",
       "}\n",
       "\n",
       ".xr-wrap {\n",
       "  display: block !important;\n",
       "  min-width: 300px;\n",
       "  max-width: 700px;\n",
       "}\n",
       "\n",
       ".xr-text-repr-fallback {\n",
       "  /* fallback to plain text repr when CSS is not injected (untrusted notebook) */\n",
       "  display: none;\n",
       "}\n",
       "\n",
       ".xr-header {\n",
       "  padding-top: 6px;\n",
       "  padding-bottom: 6px;\n",
       "  margin-bottom: 4px;\n",
       "  border-bottom: solid 1px var(--xr-border-color);\n",
       "}\n",
       "\n",
       ".xr-header > div,\n",
       ".xr-header > ul {\n",
       "  display: inline;\n",
       "  margin-top: 0;\n",
       "  margin-bottom: 0;\n",
       "}\n",
       "\n",
       ".xr-obj-type,\n",
       ".xr-array-name {\n",
       "  margin-left: 2px;\n",
       "  margin-right: 10px;\n",
       "}\n",
       "\n",
       ".xr-obj-type {\n",
       "  color: var(--xr-font-color2);\n",
       "}\n",
       "\n",
       ".xr-sections {\n",
       "  padding-left: 0 !important;\n",
       "  display: grid;\n",
       "  grid-template-columns: 150px auto auto 1fr 20px 20px;\n",
       "}\n",
       "\n",
       ".xr-section-item {\n",
       "  display: contents;\n",
       "}\n",
       "\n",
       ".xr-section-item input {\n",
       "  display: none;\n",
       "}\n",
       "\n",
       ".xr-section-item input + label {\n",
       "  color: var(--xr-disabled-color);\n",
       "}\n",
       "\n",
       ".xr-section-item input:enabled + label {\n",
       "  cursor: pointer;\n",
       "  color: var(--xr-font-color2);\n",
       "}\n",
       "\n",
       ".xr-section-item input:enabled + label:hover {\n",
       "  color: var(--xr-font-color0);\n",
       "}\n",
       "\n",
       ".xr-section-summary {\n",
       "  grid-column: 1;\n",
       "  color: var(--xr-font-color2);\n",
       "  font-weight: 500;\n",
       "}\n",
       "\n",
       ".xr-section-summary > span {\n",
       "  display: inline-block;\n",
       "  padding-left: 0.5em;\n",
       "}\n",
       "\n",
       ".xr-section-summary-in:disabled + label {\n",
       "  color: var(--xr-font-color2);\n",
       "}\n",
       "\n",
       ".xr-section-summary-in + label:before {\n",
       "  display: inline-block;\n",
       "  content: '►';\n",
       "  font-size: 11px;\n",
       "  width: 15px;\n",
       "  text-align: center;\n",
       "}\n",
       "\n",
       ".xr-section-summary-in:disabled + label:before {\n",
       "  color: var(--xr-disabled-color);\n",
       "}\n",
       "\n",
       ".xr-section-summary-in:checked + label:before {\n",
       "  content: '▼';\n",
       "}\n",
       "\n",
       ".xr-section-summary-in:checked + label > span {\n",
       "  display: none;\n",
       "}\n",
       "\n",
       ".xr-section-summary,\n",
       ".xr-section-inline-details {\n",
       "  padding-top: 4px;\n",
       "  padding-bottom: 4px;\n",
       "}\n",
       "\n",
       ".xr-section-inline-details {\n",
       "  grid-column: 2 / -1;\n",
       "}\n",
       "\n",
       ".xr-section-details {\n",
       "  display: none;\n",
       "  grid-column: 1 / -1;\n",
       "  margin-bottom: 5px;\n",
       "}\n",
       "\n",
       ".xr-section-summary-in:checked ~ .xr-section-details {\n",
       "  display: contents;\n",
       "}\n",
       "\n",
       ".xr-array-wrap {\n",
       "  grid-column: 1 / -1;\n",
       "  display: grid;\n",
       "  grid-template-columns: 20px auto;\n",
       "}\n",
       "\n",
       ".xr-array-wrap > label {\n",
       "  grid-column: 1;\n",
       "  vertical-align: top;\n",
       "}\n",
       "\n",
       ".xr-preview {\n",
       "  color: var(--xr-font-color3);\n",
       "}\n",
       "\n",
       ".xr-array-preview,\n",
       ".xr-array-data {\n",
       "  padding: 0 5px !important;\n",
       "  grid-column: 2;\n",
       "}\n",
       "\n",
       ".xr-array-data,\n",
       ".xr-array-in:checked ~ .xr-array-preview {\n",
       "  display: none;\n",
       "}\n",
       "\n",
       ".xr-array-in:checked ~ .xr-array-data,\n",
       ".xr-array-preview {\n",
       "  display: inline-block;\n",
       "}\n",
       "\n",
       ".xr-dim-list {\n",
       "  display: inline-block !important;\n",
       "  list-style: none;\n",
       "  padding: 0 !important;\n",
       "  margin: 0;\n",
       "}\n",
       "\n",
       ".xr-dim-list li {\n",
       "  display: inline-block;\n",
       "  padding: 0;\n",
       "  margin: 0;\n",
       "}\n",
       "\n",
       ".xr-dim-list:before {\n",
       "  content: '(';\n",
       "}\n",
       "\n",
       ".xr-dim-list:after {\n",
       "  content: ')';\n",
       "}\n",
       "\n",
       ".xr-dim-list li:not(:last-child):after {\n",
       "  content: ',';\n",
       "  padding-right: 5px;\n",
       "}\n",
       "\n",
       ".xr-has-index {\n",
       "  font-weight: bold;\n",
       "}\n",
       "\n",
       ".xr-var-list,\n",
       ".xr-var-item {\n",
       "  display: contents;\n",
       "}\n",
       "\n",
       ".xr-var-item > div,\n",
       ".xr-var-item label,\n",
       ".xr-var-item > .xr-var-name span {\n",
       "  background-color: var(--xr-background-color-row-even);\n",
       "  margin-bottom: 0;\n",
       "}\n",
       "\n",
       ".xr-var-item > .xr-var-name:hover span {\n",
       "  padding-right: 5px;\n",
       "}\n",
       "\n",
       ".xr-var-list > li:nth-child(odd) > div,\n",
       ".xr-var-list > li:nth-child(odd) > label,\n",
       ".xr-var-list > li:nth-child(odd) > .xr-var-name span {\n",
       "  background-color: var(--xr-background-color-row-odd);\n",
       "}\n",
       "\n",
       ".xr-var-name {\n",
       "  grid-column: 1;\n",
       "}\n",
       "\n",
       ".xr-var-dims {\n",
       "  grid-column: 2;\n",
       "}\n",
       "\n",
       ".xr-var-dtype {\n",
       "  grid-column: 3;\n",
       "  text-align: right;\n",
       "  color: var(--xr-font-color2);\n",
       "}\n",
       "\n",
       ".xr-var-preview {\n",
       "  grid-column: 4;\n",
       "}\n",
       "\n",
       ".xr-var-name,\n",
       ".xr-var-dims,\n",
       ".xr-var-dtype,\n",
       ".xr-preview,\n",
       ".xr-attrs dt {\n",
       "  white-space: nowrap;\n",
       "  overflow: hidden;\n",
       "  text-overflow: ellipsis;\n",
       "  padding-right: 10px;\n",
       "}\n",
       "\n",
       ".xr-var-name:hover,\n",
       ".xr-var-dims:hover,\n",
       ".xr-var-dtype:hover,\n",
       ".xr-attrs dt:hover {\n",
       "  overflow: visible;\n",
       "  width: auto;\n",
       "  z-index: 1;\n",
       "}\n",
       "\n",
       ".xr-var-attrs,\n",
       ".xr-var-data {\n",
       "  display: none;\n",
       "  background-color: var(--xr-background-color) !important;\n",
       "  padding-bottom: 5px !important;\n",
       "}\n",
       "\n",
       ".xr-var-attrs-in:checked ~ .xr-var-attrs,\n",
       ".xr-var-data-in:checked ~ .xr-var-data {\n",
       "  display: block;\n",
       "}\n",
       "\n",
       ".xr-var-data > table {\n",
       "  float: right;\n",
       "}\n",
       "\n",
       ".xr-var-name span,\n",
       ".xr-var-data,\n",
       ".xr-attrs {\n",
       "  padding-left: 25px !important;\n",
       "}\n",
       "\n",
       ".xr-attrs,\n",
       ".xr-var-attrs,\n",
       ".xr-var-data {\n",
       "  grid-column: 1 / -1;\n",
       "}\n",
       "\n",
       "dl.xr-attrs {\n",
       "  padding: 0;\n",
       "  margin: 0;\n",
       "  display: grid;\n",
       "  grid-template-columns: 125px auto;\n",
       "}\n",
       "\n",
       ".xr-attrs dt,\n",
       ".xr-attrs dd {\n",
       "  padding: 0;\n",
       "  margin: 0;\n",
       "  float: left;\n",
       "  padding-right: 10px;\n",
       "  width: auto;\n",
       "}\n",
       "\n",
       ".xr-attrs dt {\n",
       "  font-weight: normal;\n",
       "  grid-column: 1;\n",
       "}\n",
       "\n",
       ".xr-attrs dt:hover span {\n",
       "  display: inline-block;\n",
       "  background: var(--xr-background-color);\n",
       "  padding-right: 10px;\n",
       "}\n",
       "\n",
       ".xr-attrs dd {\n",
       "  grid-column: 2;\n",
       "  white-space: pre-wrap;\n",
       "  word-break: break-all;\n",
       "}\n",
       "\n",
       ".xr-icon-database,\n",
       ".xr-icon-file-text2 {\n",
       "  display: inline-block;\n",
       "  vertical-align: middle;\n",
       "  width: 1em;\n",
       "  height: 1.5em !important;\n",
       "  stroke-width: 0;\n",
       "  stroke: currentColor;\n",
       "  fill: currentColor;\n",
       "}\n",
       "</style><pre class='xr-text-repr-fallback'>&lt;xarray.DataArray &#x27;sst&#x27; (time: 12053)&gt;\n",
       "array([20.939999, 21.25    , 21.38    , ..., 20.27    , 20.42    ,\n",
       "       20.39    ], dtype=float32)\n",
       "Coordinates:\n",
       "  * time     (time) datetime64[ns] 1982-01-01 1982-01-02 ... 2014-12-31\n",
       "    lon      float32 112.6\n",
       "    lat      float32 -29.38\n",
       "Attributes:\n",
       "    long_name:     Daily Sea Surface Temperature\n",
       "    units:         degC\n",
       "    valid_range:   [-3. 45.]\n",
       "    precision:     2.0\n",
       "    dataset:       NOAA High-resolution Blended Analysis\n",
       "    var_desc:      Sea Surface Temperature\n",
       "    level_desc:    Surface\n",
       "    statistic:     Mean\n",
       "    parent_stat:   Individual Observations\n",
       "    actual_range:  [-1.8  34.82]\n",
       "    _ChunkSizes:   [   1  720 1440]</pre><div class='xr-wrap' style='display:none'><div class='xr-header'><div class='xr-obj-type'>xarray.DataArray</div><div class='xr-array-name'>'sst'</div><ul class='xr-dim-list'><li><span class='xr-has-index'>time</span>: 12053</li></ul></div><ul class='xr-sections'><li class='xr-section-item'><div class='xr-array-wrap'><input id='section-8ae692fe-d647-422a-bdb8-720095d44e91' class='xr-array-in' type='checkbox' checked><label for='section-8ae692fe-d647-422a-bdb8-720095d44e91' title='Show/hide data repr'><svg class='icon xr-icon-database'><use xlink:href='#icon-database'></use></svg></label><div class='xr-array-preview xr-preview'><span>20.94 21.25 21.38 21.16 21.26 21.61 ... 20.67 20.49 20.27 20.42 20.39</span></div><div class='xr-array-data'><pre>array([20.939999, 21.25    , 21.38    , ..., 20.27    , 20.42    ,\n",
       "       20.39    ], dtype=float32)</pre></div></div></li><li class='xr-section-item'><input id='section-7f885d69-9eea-4768-a636-ddb966b61ced' class='xr-section-summary-in' type='checkbox'  checked><label for='section-7f885d69-9eea-4768-a636-ddb966b61ced' class='xr-section-summary' >Coordinates: <span>(3)</span></label><div class='xr-section-inline-details'></div><div class='xr-section-details'><ul class='xr-var-list'><li class='xr-var-item'><div class='xr-var-name'><span class='xr-has-index'>time</span></div><div class='xr-var-dims'>(time)</div><div class='xr-var-dtype'>datetime64[ns]</div><div class='xr-var-preview xr-preview'>1982-01-01 ... 2014-12-31</div><input id='attrs-d2a30d51-1d3f-4260-ad59-f6b0aecc8c3a' class='xr-var-attrs-in' type='checkbox' ><label for='attrs-d2a30d51-1d3f-4260-ad59-f6b0aecc8c3a' title='Show/Hide attributes'><svg class='icon xr-icon-file-text2'><use xlink:href='#icon-file-text2'></use></svg></label><input id='data-311457f5-77f8-45f0-b795-a4db2a09cfc7' class='xr-var-data-in' type='checkbox'><label for='data-311457f5-77f8-45f0-b795-a4db2a09cfc7' title='Show/Hide data repr'><svg class='icon xr-icon-database'><use xlink:href='#icon-database'></use></svg></label><div class='xr-var-attrs'><dl class='xr-attrs'><dt><span>long_name :</span></dt><dd>Time</dd><dt><span>delta_t :</span></dt><dd>0000-00-01 00:00:00</dd><dt><span>avg_period :</span></dt><dd>0000-00-01 00:00:00</dd><dt><span>axis :</span></dt><dd>T</dd><dt><span>actual_range :</span></dt><dd>[66352. 66473.]</dd><dt><span>_ChunkSizes :</span></dt><dd>1</dd></dl></div><div class='xr-var-data'><pre>array([&#x27;1982-01-01T00:00:00.000000000&#x27;, &#x27;1982-01-02T00:00:00.000000000&#x27;,\n",
       "       &#x27;1982-01-03T00:00:00.000000000&#x27;, ..., &#x27;2014-12-29T00:00:00.000000000&#x27;,\n",
       "       &#x27;2014-12-30T00:00:00.000000000&#x27;, &#x27;2014-12-31T00:00:00.000000000&#x27;],\n",
       "      dtype=&#x27;datetime64[ns]&#x27;)</pre></div></li><li class='xr-var-item'><div class='xr-var-name'><span>lon</span></div><div class='xr-var-dims'>()</div><div class='xr-var-dtype'>float32</div><div class='xr-var-preview xr-preview'>112.6</div><input id='attrs-c3e423e0-2e5c-4190-9c93-3c72bdba1609' class='xr-var-attrs-in' type='checkbox' ><label for='attrs-c3e423e0-2e5c-4190-9c93-3c72bdba1609' title='Show/Hide attributes'><svg class='icon xr-icon-file-text2'><use xlink:href='#icon-file-text2'></use></svg></label><input id='data-24da0332-c737-4c6a-9cf1-8e286b863eb1' class='xr-var-data-in' type='checkbox'><label for='data-24da0332-c737-4c6a-9cf1-8e286b863eb1' title='Show/Hide data repr'><svg class='icon xr-icon-database'><use xlink:href='#icon-database'></use></svg></label><div class='xr-var-attrs'><dl class='xr-attrs'><dt><span>axis :</span></dt><dd>X</dd><dt><span>long_name :</span></dt><dd>Longitude</dd><dt><span>standard_name :</span></dt><dd>longitude</dd><dt><span>units :</span></dt><dd>degrees_east</dd><dt><span>actual_range :</span></dt><dd>[1.25000e-01 3.59875e+02]</dd></dl></div><div class='xr-var-data'><pre>array(112.625, dtype=float32)</pre></div></li><li class='xr-var-item'><div class='xr-var-name'><span>lat</span></div><div class='xr-var-dims'>()</div><div class='xr-var-dtype'>float32</div><div class='xr-var-preview xr-preview'>-29.38</div><input id='attrs-bf8b93af-6bb5-47c1-9570-4ac1b246098c' class='xr-var-attrs-in' type='checkbox' ><label for='attrs-bf8b93af-6bb5-47c1-9570-4ac1b246098c' title='Show/Hide attributes'><svg class='icon xr-icon-file-text2'><use xlink:href='#icon-file-text2'></use></svg></label><input id='data-2367c5d4-84d5-40c1-89fb-c2b447948b56' class='xr-var-data-in' type='checkbox'><label for='data-2367c5d4-84d5-40c1-89fb-c2b447948b56' title='Show/Hide data repr'><svg class='icon xr-icon-database'><use xlink:href='#icon-database'></use></svg></label><div class='xr-var-attrs'><dl class='xr-attrs'><dt><span>units :</span></dt><dd>degrees_north</dd><dt><span>actual_range :</span></dt><dd>[-89.875  89.875]</dd><dt><span>axis :</span></dt><dd>Y</dd><dt><span>standard_name :</span></dt><dd>latitude</dd><dt><span>long_name :</span></dt><dd>Latitude</dd></dl></div><div class='xr-var-data'><pre>array(-29.375, dtype=float32)</pre></div></li></ul></div></li><li class='xr-section-item'><input id='section-f5491661-7de9-4f8c-92df-3e2ab66ce7e5' class='xr-section-summary-in' type='checkbox'  ><label for='section-f5491661-7de9-4f8c-92df-3e2ab66ce7e5' class='xr-section-summary' >Attributes: <span>(11)</span></label><div class='xr-section-inline-details'></div><div class='xr-section-details'><dl class='xr-attrs'><dt><span>long_name :</span></dt><dd>Daily Sea Surface Temperature</dd><dt><span>units :</span></dt><dd>degC</dd><dt><span>valid_range :</span></dt><dd>[-3. 45.]</dd><dt><span>precision :</span></dt><dd>2.0</dd><dt><span>dataset :</span></dt><dd>NOAA High-resolution Blended Analysis</dd><dt><span>var_desc :</span></dt><dd>Sea Surface Temperature</dd><dt><span>level_desc :</span></dt><dd>Surface</dd><dt><span>statistic :</span></dt><dd>Mean</dd><dt><span>parent_stat :</span></dt><dd>Individual Observations</dd><dt><span>actual_range :</span></dt><dd>[-1.8  34.82]</dd><dt><span>_ChunkSizes :</span></dt><dd>[   1  720 1440]</dd></dl></div></li></ul></div></div>"
      ],
      "text/plain": [
       "<xarray.DataArray 'sst' (time: 12053)>\n",
       "array([20.939999, 21.25    , 21.38    , ..., 20.27    , 20.42    ,\n",
       "       20.39    ], dtype=float32)\n",
       "Coordinates:\n",
       "  * time     (time) datetime64[ns] 1982-01-01 1982-01-02 ... 2014-12-31\n",
       "    lon      float32 112.6\n",
       "    lat      float32 -29.38\n",
       "Attributes:\n",
       "    long_name:     Daily Sea Surface Temperature\n",
       "    units:         degC\n",
       "    valid_range:   [-3. 45.]\n",
       "    precision:     2.0\n",
       "    dataset:       NOAA High-resolution Blended Analysis\n",
       "    var_desc:      Sea Surface Temperature\n",
       "    level_desc:    Surface\n",
       "    statistic:     Mean\n",
       "    parent_stat:   Individual Observations\n",
       "    actual_range:  [-1.8  34.82]\n",
       "    _ChunkSizes:   [   1  720 1440]"
      ]
     },
     "execution_count": 27,
     "metadata": {},
     "output_type": "execute_result"
    }
   ],
   "source": [
    "wa_ds"
   ]
  },
  {
   "cell_type": "code",
   "execution_count": 28,
   "id": "920e22b0-964c-4128-a033-63f52822c18c",
   "metadata": {},
   "outputs": [],
   "source": [
    "#wa_ds.to_netcdf('wa_ds.nc')"
   ]
  },
  {
   "cell_type": "code",
   "execution_count": 30,
   "id": "72f6ad5c-8bd7-488f-bf40-6dcf13983161",
   "metadata": {},
   "outputs": [
    {
     "name": "stdout",
     "output_type": "stream",
     "text": [
      "CPU times: user 885 ms, sys: 54 ms, total: 939 ms\n",
      "Wall time: 10.1 s\n"
     ]
    }
   ],
   "source": [
    "%%time\n",
    "wa_ds_regridded = sst_regridded.isel(nlon = i, nlat = j).sel(time = slice(\"1982-01-01\",\"2014-12-31\")).load()"
   ]
  },
  {
   "cell_type": "code",
   "execution_count": 31,
   "id": "cb37d853-e1c9-4899-a058-59e8ef016807",
   "metadata": {},
   "outputs": [
    {
     "data": {
      "text/html": [
       "<div><svg style=\"position: absolute; width: 0; height: 0; overflow: hidden\">\n",
       "<defs>\n",
       "<symbol id=\"icon-database\" viewBox=\"0 0 32 32\">\n",
       "<path d=\"M16 0c-8.837 0-16 2.239-16 5v4c0 2.761 7.163 5 16 5s16-2.239 16-5v-4c0-2.761-7.163-5-16-5z\"></path>\n",
       "<path d=\"M16 17c-8.837 0-16-2.239-16-5v6c0 2.761 7.163 5 16 5s16-2.239 16-5v-6c0 2.761-7.163 5-16 5z\"></path>\n",
       "<path d=\"M16 26c-8.837 0-16-2.239-16-5v6c0 2.761 7.163 5 16 5s16-2.239 16-5v-6c0 2.761-7.163 5-16 5z\"></path>\n",
       "</symbol>\n",
       "<symbol id=\"icon-file-text2\" viewBox=\"0 0 32 32\">\n",
       "<path d=\"M28.681 7.159c-0.694-0.947-1.662-2.053-2.724-3.116s-2.169-2.030-3.116-2.724c-1.612-1.182-2.393-1.319-2.841-1.319h-15.5c-1.378 0-2.5 1.121-2.5 2.5v27c0 1.378 1.122 2.5 2.5 2.5h23c1.378 0 2.5-1.122 2.5-2.5v-19.5c0-0.448-0.137-1.23-1.319-2.841zM24.543 5.457c0.959 0.959 1.712 1.825 2.268 2.543h-4.811v-4.811c0.718 0.556 1.584 1.309 2.543 2.268zM28 29.5c0 0.271-0.229 0.5-0.5 0.5h-23c-0.271 0-0.5-0.229-0.5-0.5v-27c0-0.271 0.229-0.5 0.5-0.5 0 0 15.499-0 15.5 0v7c0 0.552 0.448 1 1 1h7v19.5z\"></path>\n",
       "<path d=\"M23 26h-14c-0.552 0-1-0.448-1-1s0.448-1 1-1h14c0.552 0 1 0.448 1 1s-0.448 1-1 1z\"></path>\n",
       "<path d=\"M23 22h-14c-0.552 0-1-0.448-1-1s0.448-1 1-1h14c0.552 0 1 0.448 1 1s-0.448 1-1 1z\"></path>\n",
       "<path d=\"M23 18h-14c-0.552 0-1-0.448-1-1s0.448-1 1-1h14c0.552 0 1 0.448 1 1s-0.448 1-1 1z\"></path>\n",
       "</symbol>\n",
       "</defs>\n",
       "</svg>\n",
       "<style>/* CSS stylesheet for displaying xarray objects in jupyterlab.\n",
       " *\n",
       " */\n",
       "\n",
       ":root {\n",
       "  --xr-font-color0: var(--jp-content-font-color0, rgba(0, 0, 0, 1));\n",
       "  --xr-font-color2: var(--jp-content-font-color2, rgba(0, 0, 0, 0.54));\n",
       "  --xr-font-color3: var(--jp-content-font-color3, rgba(0, 0, 0, 0.38));\n",
       "  --xr-border-color: var(--jp-border-color2, #e0e0e0);\n",
       "  --xr-disabled-color: var(--jp-layout-color3, #bdbdbd);\n",
       "  --xr-background-color: var(--jp-layout-color0, white);\n",
       "  --xr-background-color-row-even: var(--jp-layout-color1, white);\n",
       "  --xr-background-color-row-odd: var(--jp-layout-color2, #eeeeee);\n",
       "}\n",
       "\n",
       "html[theme=dark],\n",
       "body.vscode-dark {\n",
       "  --xr-font-color0: rgba(255, 255, 255, 1);\n",
       "  --xr-font-color2: rgba(255, 255, 255, 0.54);\n",
       "  --xr-font-color3: rgba(255, 255, 255, 0.38);\n",
       "  --xr-border-color: #1F1F1F;\n",
       "  --xr-disabled-color: #515151;\n",
       "  --xr-background-color: #111111;\n",
       "  --xr-background-color-row-even: #111111;\n",
       "  --xr-background-color-row-odd: #313131;\n",
       "}\n",
       "\n",
       ".xr-wrap {\n",
       "  display: block !important;\n",
       "  min-width: 300px;\n",
       "  max-width: 700px;\n",
       "}\n",
       "\n",
       ".xr-text-repr-fallback {\n",
       "  /* fallback to plain text repr when CSS is not injected (untrusted notebook) */\n",
       "  display: none;\n",
       "}\n",
       "\n",
       ".xr-header {\n",
       "  padding-top: 6px;\n",
       "  padding-bottom: 6px;\n",
       "  margin-bottom: 4px;\n",
       "  border-bottom: solid 1px var(--xr-border-color);\n",
       "}\n",
       "\n",
       ".xr-header > div,\n",
       ".xr-header > ul {\n",
       "  display: inline;\n",
       "  margin-top: 0;\n",
       "  margin-bottom: 0;\n",
       "}\n",
       "\n",
       ".xr-obj-type,\n",
       ".xr-array-name {\n",
       "  margin-left: 2px;\n",
       "  margin-right: 10px;\n",
       "}\n",
       "\n",
       ".xr-obj-type {\n",
       "  color: var(--xr-font-color2);\n",
       "}\n",
       "\n",
       ".xr-sections {\n",
       "  padding-left: 0 !important;\n",
       "  display: grid;\n",
       "  grid-template-columns: 150px auto auto 1fr 20px 20px;\n",
       "}\n",
       "\n",
       ".xr-section-item {\n",
       "  display: contents;\n",
       "}\n",
       "\n",
       ".xr-section-item input {\n",
       "  display: none;\n",
       "}\n",
       "\n",
       ".xr-section-item input + label {\n",
       "  color: var(--xr-disabled-color);\n",
       "}\n",
       "\n",
       ".xr-section-item input:enabled + label {\n",
       "  cursor: pointer;\n",
       "  color: var(--xr-font-color2);\n",
       "}\n",
       "\n",
       ".xr-section-item input:enabled + label:hover {\n",
       "  color: var(--xr-font-color0);\n",
       "}\n",
       "\n",
       ".xr-section-summary {\n",
       "  grid-column: 1;\n",
       "  color: var(--xr-font-color2);\n",
       "  font-weight: 500;\n",
       "}\n",
       "\n",
       ".xr-section-summary > span {\n",
       "  display: inline-block;\n",
       "  padding-left: 0.5em;\n",
       "}\n",
       "\n",
       ".xr-section-summary-in:disabled + label {\n",
       "  color: var(--xr-font-color2);\n",
       "}\n",
       "\n",
       ".xr-section-summary-in + label:before {\n",
       "  display: inline-block;\n",
       "  content: '►';\n",
       "  font-size: 11px;\n",
       "  width: 15px;\n",
       "  text-align: center;\n",
       "}\n",
       "\n",
       ".xr-section-summary-in:disabled + label:before {\n",
       "  color: var(--xr-disabled-color);\n",
       "}\n",
       "\n",
       ".xr-section-summary-in:checked + label:before {\n",
       "  content: '▼';\n",
       "}\n",
       "\n",
       ".xr-section-summary-in:checked + label > span {\n",
       "  display: none;\n",
       "}\n",
       "\n",
       ".xr-section-summary,\n",
       ".xr-section-inline-details {\n",
       "  padding-top: 4px;\n",
       "  padding-bottom: 4px;\n",
       "}\n",
       "\n",
       ".xr-section-inline-details {\n",
       "  grid-column: 2 / -1;\n",
       "}\n",
       "\n",
       ".xr-section-details {\n",
       "  display: none;\n",
       "  grid-column: 1 / -1;\n",
       "  margin-bottom: 5px;\n",
       "}\n",
       "\n",
       ".xr-section-summary-in:checked ~ .xr-section-details {\n",
       "  display: contents;\n",
       "}\n",
       "\n",
       ".xr-array-wrap {\n",
       "  grid-column: 1 / -1;\n",
       "  display: grid;\n",
       "  grid-template-columns: 20px auto;\n",
       "}\n",
       "\n",
       ".xr-array-wrap > label {\n",
       "  grid-column: 1;\n",
       "  vertical-align: top;\n",
       "}\n",
       "\n",
       ".xr-preview {\n",
       "  color: var(--xr-font-color3);\n",
       "}\n",
       "\n",
       ".xr-array-preview,\n",
       ".xr-array-data {\n",
       "  padding: 0 5px !important;\n",
       "  grid-column: 2;\n",
       "}\n",
       "\n",
       ".xr-array-data,\n",
       ".xr-array-in:checked ~ .xr-array-preview {\n",
       "  display: none;\n",
       "}\n",
       "\n",
       ".xr-array-in:checked ~ .xr-array-data,\n",
       ".xr-array-preview {\n",
       "  display: inline-block;\n",
       "}\n",
       "\n",
       ".xr-dim-list {\n",
       "  display: inline-block !important;\n",
       "  list-style: none;\n",
       "  padding: 0 !important;\n",
       "  margin: 0;\n",
       "}\n",
       "\n",
       ".xr-dim-list li {\n",
       "  display: inline-block;\n",
       "  padding: 0;\n",
       "  margin: 0;\n",
       "}\n",
       "\n",
       ".xr-dim-list:before {\n",
       "  content: '(';\n",
       "}\n",
       "\n",
       ".xr-dim-list:after {\n",
       "  content: ')';\n",
       "}\n",
       "\n",
       ".xr-dim-list li:not(:last-child):after {\n",
       "  content: ',';\n",
       "  padding-right: 5px;\n",
       "}\n",
       "\n",
       ".xr-has-index {\n",
       "  font-weight: bold;\n",
       "}\n",
       "\n",
       ".xr-var-list,\n",
       ".xr-var-item {\n",
       "  display: contents;\n",
       "}\n",
       "\n",
       ".xr-var-item > div,\n",
       ".xr-var-item label,\n",
       ".xr-var-item > .xr-var-name span {\n",
       "  background-color: var(--xr-background-color-row-even);\n",
       "  margin-bottom: 0;\n",
       "}\n",
       "\n",
       ".xr-var-item > .xr-var-name:hover span {\n",
       "  padding-right: 5px;\n",
       "}\n",
       "\n",
       ".xr-var-list > li:nth-child(odd) > div,\n",
       ".xr-var-list > li:nth-child(odd) > label,\n",
       ".xr-var-list > li:nth-child(odd) > .xr-var-name span {\n",
       "  background-color: var(--xr-background-color-row-odd);\n",
       "}\n",
       "\n",
       ".xr-var-name {\n",
       "  grid-column: 1;\n",
       "}\n",
       "\n",
       ".xr-var-dims {\n",
       "  grid-column: 2;\n",
       "}\n",
       "\n",
       ".xr-var-dtype {\n",
       "  grid-column: 3;\n",
       "  text-align: right;\n",
       "  color: var(--xr-font-color2);\n",
       "}\n",
       "\n",
       ".xr-var-preview {\n",
       "  grid-column: 4;\n",
       "}\n",
       "\n",
       ".xr-var-name,\n",
       ".xr-var-dims,\n",
       ".xr-var-dtype,\n",
       ".xr-preview,\n",
       ".xr-attrs dt {\n",
       "  white-space: nowrap;\n",
       "  overflow: hidden;\n",
       "  text-overflow: ellipsis;\n",
       "  padding-right: 10px;\n",
       "}\n",
       "\n",
       ".xr-var-name:hover,\n",
       ".xr-var-dims:hover,\n",
       ".xr-var-dtype:hover,\n",
       ".xr-attrs dt:hover {\n",
       "  overflow: visible;\n",
       "  width: auto;\n",
       "  z-index: 1;\n",
       "}\n",
       "\n",
       ".xr-var-attrs,\n",
       ".xr-var-data {\n",
       "  display: none;\n",
       "  background-color: var(--xr-background-color) !important;\n",
       "  padding-bottom: 5px !important;\n",
       "}\n",
       "\n",
       ".xr-var-attrs-in:checked ~ .xr-var-attrs,\n",
       ".xr-var-data-in:checked ~ .xr-var-data {\n",
       "  display: block;\n",
       "}\n",
       "\n",
       ".xr-var-data > table {\n",
       "  float: right;\n",
       "}\n",
       "\n",
       ".xr-var-name span,\n",
       ".xr-var-data,\n",
       ".xr-attrs {\n",
       "  padding-left: 25px !important;\n",
       "}\n",
       "\n",
       ".xr-attrs,\n",
       ".xr-var-attrs,\n",
       ".xr-var-data {\n",
       "  grid-column: 1 / -1;\n",
       "}\n",
       "\n",
       "dl.xr-attrs {\n",
       "  padding: 0;\n",
       "  margin: 0;\n",
       "  display: grid;\n",
       "  grid-template-columns: 125px auto;\n",
       "}\n",
       "\n",
       ".xr-attrs dt,\n",
       ".xr-attrs dd {\n",
       "  padding: 0;\n",
       "  margin: 0;\n",
       "  float: left;\n",
       "  padding-right: 10px;\n",
       "  width: auto;\n",
       "}\n",
       "\n",
       ".xr-attrs dt {\n",
       "  font-weight: normal;\n",
       "  grid-column: 1;\n",
       "}\n",
       "\n",
       ".xr-attrs dt:hover span {\n",
       "  display: inline-block;\n",
       "  background: var(--xr-background-color);\n",
       "  padding-right: 10px;\n",
       "}\n",
       "\n",
       ".xr-attrs dd {\n",
       "  grid-column: 2;\n",
       "  white-space: pre-wrap;\n",
       "  word-break: break-all;\n",
       "}\n",
       "\n",
       ".xr-icon-database,\n",
       ".xr-icon-file-text2 {\n",
       "  display: inline-block;\n",
       "  vertical-align: middle;\n",
       "  width: 1em;\n",
       "  height: 1.5em !important;\n",
       "  stroke-width: 0;\n",
       "  stroke: currentColor;\n",
       "  fill: currentColor;\n",
       "}\n",
       "</style><pre class='xr-text-repr-fallback'>&lt;xarray.DataArray (time: 12053)&gt;\n",
       "array([21.01956 , 21.124851, 21.159773, ..., 20.324919, 20.419828,\n",
       "       20.429815], dtype=float32)\n",
       "Coordinates:\n",
       "  * time     (time) datetime64[ns] 1982-01-01 1982-01-02 ... 2014-12-31\n",
       "    lon      float64 112.4\n",
       "    lat      float64 -29.55\n",
       "Attributes:\n",
       "    regrid_method:  bilinear</pre><div class='xr-wrap' style='display:none'><div class='xr-header'><div class='xr-obj-type'>xarray.DataArray</div><div class='xr-array-name'></div><ul class='xr-dim-list'><li><span class='xr-has-index'>time</span>: 12053</li></ul></div><ul class='xr-sections'><li class='xr-section-item'><div class='xr-array-wrap'><input id='section-e672e7e2-7984-4b6d-94a1-4dce015cbc30' class='xr-array-in' type='checkbox' checked><label for='section-e672e7e2-7984-4b6d-94a1-4dce015cbc30' title='Show/hide data repr'><svg class='icon xr-icon-database'><use xlink:href='#icon-database'></use></svg></label><div class='xr-array-preview xr-preview'><span>21.02 21.12 21.16 21.06 21.12 21.41 ... 20.81 20.55 20.32 20.42 20.43</span></div><div class='xr-array-data'><pre>array([21.01956 , 21.124851, 21.159773, ..., 20.324919, 20.419828,\n",
       "       20.429815], dtype=float32)</pre></div></div></li><li class='xr-section-item'><input id='section-cc8a8a1e-64a0-4ec4-b8b9-e08e23047865' class='xr-section-summary-in' type='checkbox'  checked><label for='section-cc8a8a1e-64a0-4ec4-b8b9-e08e23047865' class='xr-section-summary' >Coordinates: <span>(3)</span></label><div class='xr-section-inline-details'></div><div class='xr-section-details'><ul class='xr-var-list'><li class='xr-var-item'><div class='xr-var-name'><span class='xr-has-index'>time</span></div><div class='xr-var-dims'>(time)</div><div class='xr-var-dtype'>datetime64[ns]</div><div class='xr-var-preview xr-preview'>1982-01-01 ... 2014-12-31</div><input id='attrs-48919cbf-3c5a-441c-9ee0-7c36e6c5dfdc' class='xr-var-attrs-in' type='checkbox' disabled><label for='attrs-48919cbf-3c5a-441c-9ee0-7c36e6c5dfdc' title='Show/Hide attributes'><svg class='icon xr-icon-file-text2'><use xlink:href='#icon-file-text2'></use></svg></label><input id='data-471e02bb-b47c-49a9-b72a-6d094036463d' class='xr-var-data-in' type='checkbox'><label for='data-471e02bb-b47c-49a9-b72a-6d094036463d' title='Show/Hide data repr'><svg class='icon xr-icon-database'><use xlink:href='#icon-database'></use></svg></label><div class='xr-var-attrs'><dl class='xr-attrs'></dl></div><div class='xr-var-data'><pre>array([&#x27;1982-01-01T00:00:00.000000000&#x27;, &#x27;1982-01-02T00:00:00.000000000&#x27;,\n",
       "       &#x27;1982-01-03T00:00:00.000000000&#x27;, ..., &#x27;2014-12-29T00:00:00.000000000&#x27;,\n",
       "       &#x27;2014-12-30T00:00:00.000000000&#x27;, &#x27;2014-12-31T00:00:00.000000000&#x27;],\n",
       "      dtype=&#x27;datetime64[ns]&#x27;)</pre></div></li><li class='xr-var-item'><div class='xr-var-name'><span>lon</span></div><div class='xr-var-dims'>()</div><div class='xr-var-dtype'>float64</div><div class='xr-var-preview xr-preview'>112.4</div><input id='attrs-8647230d-ea2c-4728-85e1-ec75f1f2a059' class='xr-var-attrs-in' type='checkbox' ><label for='attrs-8647230d-ea2c-4728-85e1-ec75f1f2a059' title='Show/Hide attributes'><svg class='icon xr-icon-file-text2'><use xlink:href='#icon-file-text2'></use></svg></label><input id='data-eb754357-56b9-4140-a8e2-54d32c057a24' class='xr-var-data-in' type='checkbox'><label for='data-eb754357-56b9-4140-a8e2-54d32c057a24' title='Show/Hide data repr'><svg class='icon xr-icon-database'><use xlink:href='#icon-database'></use></svg></label><div class='xr-var-attrs'><dl class='xr-attrs'><dt><span>units :</span></dt><dd>degrees_east</dd><dt><span>long_name :</span></dt><dd>T-grid longitude</dd></dl></div><div class='xr-var-data'><pre>array(112.43750313)</pre></div></li><li class='xr-var-item'><div class='xr-var-name'><span>lat</span></div><div class='xr-var-dims'>()</div><div class='xr-var-dtype'>float64</div><div class='xr-var-preview xr-preview'>-29.55</div><input id='attrs-f5c26a2d-6ff6-4122-9b77-827bc108a737' class='xr-var-attrs-in' type='checkbox' ><label for='attrs-f5c26a2d-6ff6-4122-9b77-827bc108a737' title='Show/Hide attributes'><svg class='icon xr-icon-file-text2'><use xlink:href='#icon-file-text2'></use></svg></label><input id='data-307248ae-4cfe-4667-af37-95a4593dcaae' class='xr-var-data-in' type='checkbox'><label for='data-307248ae-4cfe-4667-af37-95a4593dcaae' title='Show/Hide data repr'><svg class='icon xr-icon-database'><use xlink:href='#icon-database'></use></svg></label><div class='xr-var-attrs'><dl class='xr-attrs'><dt><span>units :</span></dt><dd>degrees_north</dd><dt><span>long_name :</span></dt><dd>T-grid latitude</dd></dl></div><div class='xr-var-data'><pre>array(-29.55476339)</pre></div></li></ul></div></li><li class='xr-section-item'><input id='section-2ed8c98c-ce87-4510-9beb-86deba040cc0' class='xr-section-summary-in' type='checkbox'  checked><label for='section-2ed8c98c-ce87-4510-9beb-86deba040cc0' class='xr-section-summary' >Attributes: <span>(1)</span></label><div class='xr-section-inline-details'></div><div class='xr-section-details'><dl class='xr-attrs'><dt><span>regrid_method :</span></dt><dd>bilinear</dd></dl></div></li></ul></div></div>"
      ],
      "text/plain": [
       "<xarray.DataArray (time: 12053)>\n",
       "array([21.01956 , 21.124851, 21.159773, ..., 20.324919, 20.419828,\n",
       "       20.429815], dtype=float32)\n",
       "Coordinates:\n",
       "  * time     (time) datetime64[ns] 1982-01-01 1982-01-02 ... 2014-12-31\n",
       "    lon      float64 112.4\n",
       "    lat      float64 -29.55\n",
       "Attributes:\n",
       "    regrid_method:  bilinear"
      ]
     },
     "execution_count": 31,
     "metadata": {},
     "output_type": "execute_result"
    }
   ],
   "source": [
    "wa_ds_regridded"
   ]
  },
  {
   "cell_type": "code",
   "execution_count": 63,
   "id": "e44f56b7-b052-4dd5-9ab6-ea5a99e13441",
   "metadata": {},
   "outputs": [],
   "source": [
    "#wa_ds_regridded.to_netcdf('wa_ds_regridded.nc')"
   ]
  },
  {
   "cell_type": "code",
   "execution_count": 17,
   "id": "232cd718-e6b0-4117-839f-bbd5466f53be",
   "metadata": {},
   "outputs": [],
   "source": [
    "###Uncomment line below to start from here\n",
    "#wa_ds=xr.open_dataset('wa_ds.nc').sst\n",
    "#wa_ds_filtered=xr.open_dataset('wa_ds_filtered.nc').sst"
   ]
  },
  {
   "cell_type": "code",
   "execution_count": 33,
   "id": "dbc2eb29-7f21-41f7-8421-44a14a1fe8ca",
   "metadata": {},
   "outputs": [
    {
     "data": {
      "image/png": "[encoded data removed]",
      "text/plain": [
       "<Figure size 720x288 with 1 Axes>"
      ]
     },
     "metadata": {
      "needs_background": "light"
     },
     "output_type": "display_data"
    }
   ],
   "source": [
    "fig, ax = plt.subplots(1,1, figsize=(10,4))\n",
    "wa_ds.plot(ax=ax, label='oisst', lw=3)\n",
    "wa_ds_regridded.plot(ax=ax, label='oisst_remmaped', lw=1)\n",
    "ax.grid()"
   ]
  },
  {
   "cell_type": "markdown",
   "id": "bfc29ff0-e350-4699-9036-7f18b26f631f",
   "metadata": {},
   "source": [
    "### Marine Heatwave Detection\n",
    "The marineHeatWaves (mhw) module consists of a number of functions for the detection and characterization of MHWs. The main function is the detection function (detect) which takes as input a time series of temperature (and a corresponding time vector) and outputs a set of detected MHWs."
   ]
  },
  {
   "cell_type": "markdown",
   "id": "7cd45abc-fbdf-4681-bf36-9ec5550b8053",
   "metadata": {},
   "source": [
    "Next we run the MHW detection algorithm which returns the variable mhws, consisting of the detected MHWs, and clim, consisting of the climatological (varying by day-of-year) seasonal cycle and extremes threshold:"
   ]
  },
  {
   "cell_type": "code",
   "execution_count": 37,
   "id": "5e579dcd-cea2-4ff2-b9c2-a2da5823f708",
   "metadata": {},
   "outputs": [],
   "source": [
    "# Generate time vector using datetime format (January 1 of year 1 is day 1)\n",
    "t = np.arange(date(1982,1,1).toordinal(),date(2014,12,31).toordinal()+1)\n",
    "dates = [date.fromordinal(tt.astype(int)) for tt in t]"
   ]
  },
  {
   "cell_type": "code",
   "execution_count": 38,
   "id": "6170655e-0bce-4522-a132-e5026221d871",
   "metadata": {},
   "outputs": [
    {
     "data": {
      "text/plain": [
       "12053"
      ]
     },
     "execution_count": 38,
     "metadata": {},
     "output_type": "execute_result"
    }
   ],
   "source": [
    "len(t)"
   ]
  },
  {
   "cell_type": "code",
   "execution_count": 40,
   "id": "c7f0063e-3e06-42d4-b92c-99f64b7611f2",
   "metadata": {},
   "outputs": [],
   "source": [
    "mhws_case1_true, clim_case1_true = mhw.detect(t, wa_ds.values)\n",
    "mhws_case1_remap, clim_case1_remap = mhw.detect(t, wa_ds_regridded.values)"
   ]
  },
  {
   "cell_type": "markdown",
   "id": "fb3b4268-3ee7-4173-9c28-30bd9c1accab",
   "metadata": {},
   "source": [
    "This algorithm has detected the following number of MHW events:"
   ]
  },
  {
   "cell_type": "code",
   "execution_count": 42,
   "id": "1a1b1eb2-6096-49ce-861f-59de032d9994",
   "metadata": {},
   "outputs": [
    {
     "data": {
      "text/plain": [
       "60"
      ]
     },
     "execution_count": 42,
     "metadata": {},
     "output_type": "execute_result"
    }
   ],
   "source": [
    "mhws_case1_true['n_events']"
   ]
  },
  {
   "cell_type": "code",
   "execution_count": 43,
   "id": "a47f0a5e-ccc1-4c7c-9ddf-19798cd7166a",
   "metadata": {},
   "outputs": [
    {
     "data": {
      "text/plain": [
       "60"
      ]
     },
     "execution_count": 43,
     "metadata": {},
     "output_type": "execute_result"
    }
   ],
   "source": [
    "mhws_case1_remap['n_events']"
   ]
  },
  {
   "cell_type": "markdown",
   "id": "19a932ea-8552-4349-9bf9-6f5494a37759",
   "metadata": {},
   "source": [
    "The first ten events, for example, have the following maximum intensities (in C)  "
   ]
  },
  {
   "cell_type": "code",
   "execution_count": 44,
   "id": "12e3ca5d-63bd-487d-8e12-98e3b3d708ec",
   "metadata": {},
   "outputs": [
    {
     "data": {
      "text/plain": [
       "[1.9759563938263902,\n",
       " 2.1255383645334582,\n",
       " 2.241348082019435,\n",
       " 1.2863466816563793,\n",
       " 1.8312707716418863,\n",
       " 1.5018472363871922,\n",
       " 2.2082389708488286,\n",
       " 1.1157563117242653,\n",
       " 1.690619499452648,\n",
       " 1.9938329881237422]"
      ]
     },
     "execution_count": 44,
     "metadata": {},
     "output_type": "execute_result"
    }
   ],
   "source": [
    "mhws_case1_true['intensity_max'][0:10]"
   ]
  },
  {
   "cell_type": "code",
   "execution_count": 45,
   "id": "f22e413d-e22c-4b54-914a-6fb8f8eb401e",
   "metadata": {},
   "outputs": [
    {
     "data": {
      "text/plain": [
       "[1.3277950902139004,\n",
       " 1.897887629847368,\n",
       " 2.234155777961977,\n",
       " 2.2357692103232125,\n",
       " 1.7692741886261985,\n",
       " 1.7350290975263043,\n",
       " 1.8420706718198723,\n",
       " 2.0434194995510992,\n",
       " 1.9530748551891683,\n",
       " 1.711446085283832]"
      ]
     },
     "execution_count": 45,
     "metadata": {},
     "output_type": "execute_result"
    }
   ],
   "source": [
    "mhws_case1_remap['intensity_max'][0:10]"
   ]
  },
  {
   "cell_type": "markdown",
   "id": "78fc6ab1-937d-4d1a-bbd0-cc4acdacc8ad",
   "metadata": {},
   "source": [
    "Let's have a look at some properties of the event with the largest maximum intensity"
   ]
  },
  {
   "cell_type": "code",
   "execution_count": 46,
   "id": "2a2e9635-34f8-4ad5-9378-b0e07b532719",
   "metadata": {},
   "outputs": [
    {
     "name": "stdout",
     "output_type": "stream",
     "text": [
      "Maximum intensity: 6.483709366090839 deg. C\n",
      "Average intensity: 3.1762778888865806 deg. C\n",
      "Cumulative intensity: 193.7529512220814 deg. C-days\n",
      "Duration: 61 days\n",
      "Start date: 06 February 2011\n",
      "End date: 07 April 2011\n"
     ]
    }
   ],
   "source": [
    "ev = np.argmax(mhws_case1_true['intensity_max']) # Find largest event\n",
    "print ('Maximum intensity:', mhws_case1_true['intensity_max'][ev], 'deg. C')\n",
    "print ('Average intensity:', mhws_case1_true['intensity_mean'][ev], 'deg. C')\n",
    "print ('Cumulative intensity:', mhws_case1_true['intensity_cumulative'][ev], 'deg. C-days')\n",
    "print ('Duration:', mhws_case1_true['duration'][ev], 'days')\n",
    "print ('Start date:', mhws_case1_true['date_start'][ev].strftime(\"%d %B %Y\"))\n",
    "print ('End date:', mhws_case1_true['date_end'][ev].strftime(\"%d %B %Y\"))"
   ]
  },
  {
   "cell_type": "code",
   "execution_count": 47,
   "id": "155c3165-03a1-4f25-a6c1-7b92f7507ec6",
   "metadata": {},
   "outputs": [
    {
     "name": "stdout",
     "output_type": "stream",
     "text": [
      "Maximum intensity: 6.354586447438891 deg. C\n",
      "Average intensity: 3.2896328405382524 deg. C\n",
      "Cumulative intensity: 177.64017338906564 deg. C-days\n",
      "Duration: 54 days\n",
      "Start date: 07 February 2011\n",
      "End date: 01 April 2011\n"
     ]
    }
   ],
   "source": [
    "ev = np.argmax(mhws_case1_remap['intensity_max']) # Find largest event\n",
    "print ('Maximum intensity:', mhws_case1_remap['intensity_max'][ev], 'deg. C')\n",
    "print ('Average intensity:', mhws_case1_remap['intensity_mean'][ev], 'deg. C')\n",
    "print ('Cumulative intensity:', mhws_case1_remap['intensity_cumulative'][ev], 'deg. C-days')\n",
    "print ('Duration:', mhws_case1_remap['duration'][ev], 'days')\n",
    "print ('Start date:', mhws_case1_remap['date_start'][ev].strftime(\"%d %B %Y\"))\n",
    "print ('End date:', mhws_case1_remap['date_end'][ev].strftime(\"%d %B %Y\"))"
   ]
  }
 ],
 "metadata": {
  "kernelspec": {
   "display_name": "Python [conda env:miniconda-dev2]",
   "language": "python",
   "name": "conda-env-miniconda-dev2-py"
  },
  "language_info": {
   "codemirror_mode": {
    "name": "ipython",
    "version": 3
   },
   "file_extension": ".py",
   "mimetype": "text/x-python",
   "name": "python",
   "nbconvert_exporter": "python",
   "pygments_lexer": "ipython3",
   "version": "3.9.9"
  },
  "toc-autonumbering": false,
  "toc-showcode": false
 },
 "nbformat": 4,
 "nbformat_minor": 5
}
